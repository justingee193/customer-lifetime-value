{
 "cells": [
  {
   "cell_type": "markdown",
   "metadata": {},
   "source": [
    "# Predicting Customer Purchasing Behavior and Lifetime Value\n",
    "\n",
    "In this project, we will evaluate the predictive power of both the Pareto/NBD and modified BG/NBD models that has been trained and tested on customer data.\n",
    "\n",
    "We will be using the [Lifetimes](https://github.com/CamDavidsonPilon/lifetimes) python library for our models and visualizations.\n",
    "\n",
    "* [Official Documentation](https://lifetimes.readthedocs.io/en/latest/)"
   ]
  },
  {
   "cell_type": "code",
   "execution_count": 1,
   "metadata": {},
   "outputs": [],
   "source": [
    "import numpy as np\n",
    "import pandas as pd\n",
    "import matplotlib.pyplot as plt"
   ]
  },
  {
   "cell_type": "code",
   "execution_count": 2,
   "metadata": {},
   "outputs": [],
   "source": [
    "df = pd.read_csv(\"customer-data.csv\")"
   ]
  },
  {
   "cell_type": "markdown",
   "metadata": {},
   "source": [
    "## Data Exploration"
   ]
  },
  {
   "cell_type": "code",
   "execution_count": 3,
   "metadata": {},
   "outputs": [
    {
     "data": {
      "text/html": [
       "<div>\n",
       "<style scoped>\n",
       "    .dataframe tbody tr th:only-of-type {\n",
       "        vertical-align: middle;\n",
       "    }\n",
       "\n",
       "    .dataframe tbody tr th {\n",
       "        vertical-align: top;\n",
       "    }\n",
       "\n",
       "    .dataframe thead th {\n",
       "        text-align: right;\n",
       "    }\n",
       "</style>\n",
       "<table border=\"1\" class=\"dataframe\">\n",
       "  <thead>\n",
       "    <tr style=\"text-align: right;\">\n",
       "      <th></th>\n",
       "      <th>CustomerID</th>\n",
       "      <th>Timestamp</th>\n",
       "      <th>PurchaseValue</th>\n",
       "    </tr>\n",
       "  </thead>\n",
       "  <tbody>\n",
       "    <tr>\n",
       "      <th>0</th>\n",
       "      <td>5611860a94204a4078659f1667372cc4</td>\n",
       "      <td>2017-02-09T18:31:00Z</td>\n",
       "      <td>4.72</td>\n",
       "    </tr>\n",
       "    <tr>\n",
       "      <th>1</th>\n",
       "      <td>07b260307114f9cffc5601eb7ad4b565</td>\n",
       "      <td>2017-06-28T19:26:00Z</td>\n",
       "      <td>5.33</td>\n",
       "    </tr>\n",
       "    <tr>\n",
       "      <th>2</th>\n",
       "      <td>1ede55062d0d68c70fc4d355a5328d11</td>\n",
       "      <td>2017-07-28T17:47:00Z</td>\n",
       "      <td>5.35</td>\n",
       "    </tr>\n",
       "    <tr>\n",
       "      <th>3</th>\n",
       "      <td>42b8e86e8da5e35628bcdc146c358665</td>\n",
       "      <td>2016-12-17T22:59:00Z</td>\n",
       "      <td>6.00</td>\n",
       "    </tr>\n",
       "    <tr>\n",
       "      <th>4</th>\n",
       "      <td>1047f2787b7efc759d7ffcbc40ef7e19</td>\n",
       "      <td>2016-12-05T17:23:00Z</td>\n",
       "      <td>6.28</td>\n",
       "    </tr>\n",
       "  </tbody>\n",
       "</table>\n",
       "</div>"
      ],
      "text/plain": [
       "                         CustomerID             Timestamp  PurchaseValue\n",
       "0  5611860a94204a4078659f1667372cc4  2017-02-09T18:31:00Z           4.72\n",
       "1  07b260307114f9cffc5601eb7ad4b565  2017-06-28T19:26:00Z           5.33\n",
       "2  1ede55062d0d68c70fc4d355a5328d11  2017-07-28T17:47:00Z           5.35\n",
       "3  42b8e86e8da5e35628bcdc146c358665  2016-12-17T22:59:00Z           6.00\n",
       "4  1047f2787b7efc759d7ffcbc40ef7e19  2016-12-05T17:23:00Z           6.28"
      ]
     },
     "execution_count": 3,
     "metadata": {},
     "output_type": "execute_result"
    }
   ],
   "source": [
    "df.head()"
   ]
  },
  {
   "cell_type": "markdown",
   "metadata": {},
   "source": [
    "### Reformatting Data"
   ]
  },
  {
   "cell_type": "code",
   "execution_count": 4,
   "metadata": {},
   "outputs": [],
   "source": [
    "df['Timestamp'] = pd.to_datetime(df['Timestamp'], format='%Y/%m/%d %H:%M').dt.date"
   ]
  },
  {
   "cell_type": "code",
   "execution_count": 5,
   "metadata": {},
   "outputs": [
    {
     "name": "stdout",
     "output_type": "stream",
     "text": [
      "The earliest date is 2016-11-30 | The latest date is 2017-12-06\n"
     ]
    }
   ],
   "source": [
    "begin = df['Timestamp'].min()\n",
    "end = df['Timestamp'].max()\n",
    "print(\"The earliest date is {} | The latest date is {}\".format(begin, end))"
   ]
  },
  {
   "cell_type": "code",
   "execution_count": 6,
   "metadata": {},
   "outputs": [],
   "source": [
    "from lifetimes.utils import summary_data_from_transaction_data\n",
    "\n",
    "summary = summary_data_from_transaction_data(transactions=df,\n",
    "                                             customer_id_col='CustomerID', \n",
    "                                             datetime_col='Timestamp', \n",
    "                                             monetary_value_col='PurchaseValue',\n",
    "                                             observation_period_end='2017-12-06',\n",
    "                                             freq='D').reset_index()"
   ]
  },
  {
   "cell_type": "code",
   "execution_count": 7,
   "metadata": {
    "scrolled": true
   },
   "outputs": [
    {
     "data": {
      "text/html": [
       "<div>\n",
       "<style scoped>\n",
       "    .dataframe tbody tr th:only-of-type {\n",
       "        vertical-align: middle;\n",
       "    }\n",
       "\n",
       "    .dataframe tbody tr th {\n",
       "        vertical-align: top;\n",
       "    }\n",
       "\n",
       "    .dataframe thead th {\n",
       "        text-align: right;\n",
       "    }\n",
       "</style>\n",
       "<table border=\"1\" class=\"dataframe\">\n",
       "  <thead>\n",
       "    <tr style=\"text-align: right;\">\n",
       "      <th></th>\n",
       "      <th>CustomerID</th>\n",
       "      <th>frequency</th>\n",
       "      <th>recency</th>\n",
       "      <th>T</th>\n",
       "      <th>monetary_value</th>\n",
       "    </tr>\n",
       "  </thead>\n",
       "  <tbody>\n",
       "    <tr>\n",
       "      <th>0</th>\n",
       "      <td>0001117ff1305c1fe840697166e61564</td>\n",
       "      <td>1.0</td>\n",
       "      <td>11.0</td>\n",
       "      <td>344.0</td>\n",
       "      <td>87.280</td>\n",
       "    </tr>\n",
       "    <tr>\n",
       "      <th>1</th>\n",
       "      <td>00028502859fd7e111d88c20456b59d5</td>\n",
       "      <td>0.0</td>\n",
       "      <td>0.0</td>\n",
       "      <td>342.0</td>\n",
       "      <td>0.000</td>\n",
       "    </tr>\n",
       "    <tr>\n",
       "      <th>2</th>\n",
       "      <td>000306d200fd6e9b03de48d15348f5c2</td>\n",
       "      <td>0.0</td>\n",
       "      <td>0.0</td>\n",
       "      <td>33.0</td>\n",
       "      <td>0.000</td>\n",
       "    </tr>\n",
       "    <tr>\n",
       "      <th>3</th>\n",
       "      <td>0003f3458a6e7b495a975c2d9ddda559</td>\n",
       "      <td>2.0</td>\n",
       "      <td>285.0</td>\n",
       "      <td>343.0</td>\n",
       "      <td>88.065</td>\n",
       "    </tr>\n",
       "    <tr>\n",
       "      <th>4</th>\n",
       "      <td>000784b838b807ad589d4bc69c0c562f</td>\n",
       "      <td>0.0</td>\n",
       "      <td>0.0</td>\n",
       "      <td>210.0</td>\n",
       "      <td>0.000</td>\n",
       "    </tr>\n",
       "  </tbody>\n",
       "</table>\n",
       "</div>"
      ],
      "text/plain": [
       "                         CustomerID  frequency  recency      T  monetary_value\n",
       "0  0001117ff1305c1fe840697166e61564        1.0     11.0  344.0          87.280\n",
       "1  00028502859fd7e111d88c20456b59d5        0.0      0.0  342.0           0.000\n",
       "2  000306d200fd6e9b03de48d15348f5c2        0.0      0.0   33.0           0.000\n",
       "3  0003f3458a6e7b495a975c2d9ddda559        2.0    285.0  343.0          88.065\n",
       "4  000784b838b807ad589d4bc69c0c562f        0.0      0.0  210.0           0.000"
      ]
     },
     "execution_count": 7,
     "metadata": {},
     "output_type": "execute_result"
    }
   ],
   "source": [
    "summary.head()"
   ]
  },
  {
   "cell_type": "code",
   "execution_count": 8,
   "metadata": {},
   "outputs": [
    {
     "name": "stdout",
     "output_type": "stream",
     "text": [
      "<class 'pandas.core.frame.DataFrame'>\n",
      "RangeIndex: 23708 entries, 0 to 23707\n",
      "Data columns (total 5 columns):\n",
      "CustomerID        23708 non-null object\n",
      "frequency         23708 non-null float64\n",
      "recency           23708 non-null float64\n",
      "T                 23708 non-null float64\n",
      "monetary_value    23708 non-null float64\n",
      "dtypes: float64(4), object(1)\n",
      "memory usage: 926.2+ KB\n"
     ]
    }
   ],
   "source": [
    "summary.info()"
   ]
  },
  {
   "cell_type": "code",
   "execution_count": 9,
   "metadata": {},
   "outputs": [
    {
     "data": {
      "text/html": [
       "<div>\n",
       "<style scoped>\n",
       "    .dataframe tbody tr th:only-of-type {\n",
       "        vertical-align: middle;\n",
       "    }\n",
       "\n",
       "    .dataframe tbody tr th {\n",
       "        vertical-align: top;\n",
       "    }\n",
       "\n",
       "    .dataframe thead th {\n",
       "        text-align: right;\n",
       "    }\n",
       "</style>\n",
       "<table border=\"1\" class=\"dataframe\">\n",
       "  <thead>\n",
       "    <tr style=\"text-align: right;\">\n",
       "      <th></th>\n",
       "      <th>frequency</th>\n",
       "      <th>recency</th>\n",
       "      <th>T</th>\n",
       "      <th>monetary_value</th>\n",
       "    </tr>\n",
       "  </thead>\n",
       "  <tbody>\n",
       "    <tr>\n",
       "      <th>count</th>\n",
       "      <td>23708.000000</td>\n",
       "      <td>23708.000000</td>\n",
       "      <td>23708.000000</td>\n",
       "      <td>23708.000000</td>\n",
       "    </tr>\n",
       "    <tr>\n",
       "      <th>mean</th>\n",
       "      <td>1.025477</td>\n",
       "      <td>58.355154</td>\n",
       "      <td>204.519403</td>\n",
       "      <td>94.028495</td>\n",
       "    </tr>\n",
       "    <tr>\n",
       "      <th>std</th>\n",
       "      <td>2.111326</td>\n",
       "      <td>98.565275</td>\n",
       "      <td>110.976868</td>\n",
       "      <td>168.026439</td>\n",
       "    </tr>\n",
       "    <tr>\n",
       "      <th>min</th>\n",
       "      <td>0.000000</td>\n",
       "      <td>0.000000</td>\n",
       "      <td>0.000000</td>\n",
       "      <td>0.000000</td>\n",
       "    </tr>\n",
       "    <tr>\n",
       "      <th>25%</th>\n",
       "      <td>0.000000</td>\n",
       "      <td>0.000000</td>\n",
       "      <td>117.000000</td>\n",
       "      <td>0.000000</td>\n",
       "    </tr>\n",
       "    <tr>\n",
       "      <th>50%</th>\n",
       "      <td>0.000000</td>\n",
       "      <td>0.000000</td>\n",
       "      <td>209.000000</td>\n",
       "      <td>0.000000</td>\n",
       "    </tr>\n",
       "    <tr>\n",
       "      <th>75%</th>\n",
       "      <td>1.000000</td>\n",
       "      <td>86.000000</td>\n",
       "      <td>307.000000</td>\n",
       "      <td>146.722500</td>\n",
       "    </tr>\n",
       "    <tr>\n",
       "      <th>max</th>\n",
       "      <td>95.000000</td>\n",
       "      <td>371.000000</td>\n",
       "      <td>371.000000</td>\n",
       "      <td>3420.700000</td>\n",
       "    </tr>\n",
       "  </tbody>\n",
       "</table>\n",
       "</div>"
      ],
      "text/plain": [
       "          frequency       recency             T  monetary_value\n",
       "count  23708.000000  23708.000000  23708.000000    23708.000000\n",
       "mean       1.025477     58.355154    204.519403       94.028495\n",
       "std        2.111326     98.565275    110.976868      168.026439\n",
       "min        0.000000      0.000000      0.000000        0.000000\n",
       "25%        0.000000      0.000000    117.000000        0.000000\n",
       "50%        0.000000      0.000000    209.000000        0.000000\n",
       "75%        1.000000     86.000000    307.000000      146.722500\n",
       "max       95.000000    371.000000    371.000000     3420.700000"
      ]
     },
     "execution_count": 9,
     "metadata": {},
     "output_type": "execute_result"
    }
   ],
   "source": [
    "summary.describe()"
   ]
  },
  {
   "cell_type": "markdown",
   "metadata": {},
   "source": [
    "### Data Calibration and Holdout "
   ]
  },
  {
   "cell_type": "code",
   "execution_count": 10,
   "metadata": {},
   "outputs": [],
   "source": [
    "from lifetimes.utils import calibration_and_holdout_data\n",
    "\n",
    "summary_cal_holdout = calibration_and_holdout_data(transactions=df,\n",
    "                                                   customer_id_col='CustomerID', \n",
    "                                                   datetime_col='Timestamp',\n",
    "                                                   calibration_period_end='2017-07-12', # 2/3rds between beginning and end dates\n",
    "                                                   observation_period_end='2017-12-06',\n",
    "                                                   freq='D',\n",
    "                                                   monetary_value_col='PurchaseValue').reset_index()"
   ]
  },
  {
   "cell_type": "code",
   "execution_count": 11,
   "metadata": {
    "scrolled": true
   },
   "outputs": [
    {
     "data": {
      "text/html": [
       "<div>\n",
       "<style scoped>\n",
       "    .dataframe tbody tr th:only-of-type {\n",
       "        vertical-align: middle;\n",
       "    }\n",
       "\n",
       "    .dataframe tbody tr th {\n",
       "        vertical-align: top;\n",
       "    }\n",
       "\n",
       "    .dataframe thead th {\n",
       "        text-align: right;\n",
       "    }\n",
       "</style>\n",
       "<table border=\"1\" class=\"dataframe\">\n",
       "  <thead>\n",
       "    <tr style=\"text-align: right;\">\n",
       "      <th></th>\n",
       "      <th>CustomerID</th>\n",
       "      <th>frequency_cal</th>\n",
       "      <th>recency_cal</th>\n",
       "      <th>T_cal</th>\n",
       "      <th>monetary_value_cal</th>\n",
       "      <th>frequency_holdout</th>\n",
       "      <th>monetary_value_holdout</th>\n",
       "      <th>duration_holdout</th>\n",
       "    </tr>\n",
       "  </thead>\n",
       "  <tbody>\n",
       "    <tr>\n",
       "      <th>0</th>\n",
       "      <td>0001117ff1305c1fe840697166e61564</td>\n",
       "      <td>1.0</td>\n",
       "      <td>11.0</td>\n",
       "      <td>197.0</td>\n",
       "      <td>87.2800</td>\n",
       "      <td>0.0</td>\n",
       "      <td>0.00</td>\n",
       "      <td>147</td>\n",
       "    </tr>\n",
       "    <tr>\n",
       "      <th>1</th>\n",
       "      <td>00028502859fd7e111d88c20456b59d5</td>\n",
       "      <td>0.0</td>\n",
       "      <td>0.0</td>\n",
       "      <td>195.0</td>\n",
       "      <td>0.0000</td>\n",
       "      <td>0.0</td>\n",
       "      <td>0.00</td>\n",
       "      <td>147</td>\n",
       "    </tr>\n",
       "    <tr>\n",
       "      <th>2</th>\n",
       "      <td>0003f3458a6e7b495a975c2d9ddda559</td>\n",
       "      <td>1.0</td>\n",
       "      <td>2.0</td>\n",
       "      <td>196.0</td>\n",
       "      <td>76.6300</td>\n",
       "      <td>1.0</td>\n",
       "      <td>99.50</td>\n",
       "      <td>147</td>\n",
       "    </tr>\n",
       "    <tr>\n",
       "      <th>3</th>\n",
       "      <td>000784b838b807ad589d4bc69c0c562f</td>\n",
       "      <td>0.0</td>\n",
       "      <td>0.0</td>\n",
       "      <td>63.0</td>\n",
       "      <td>0.0000</td>\n",
       "      <td>0.0</td>\n",
       "      <td>0.00</td>\n",
       "      <td>147</td>\n",
       "    </tr>\n",
       "    <tr>\n",
       "      <th>4</th>\n",
       "      <td>000ad0f90e9fcb6ff5a0bc480cccbdb3</td>\n",
       "      <td>4.0</td>\n",
       "      <td>52.0</td>\n",
       "      <td>53.0</td>\n",
       "      <td>87.6675</td>\n",
       "      <td>1.0</td>\n",
       "      <td>798.24</td>\n",
       "      <td>147</td>\n",
       "    </tr>\n",
       "  </tbody>\n",
       "</table>\n",
       "</div>"
      ],
      "text/plain": [
       "                         CustomerID  frequency_cal  recency_cal  T_cal  \\\n",
       "0  0001117ff1305c1fe840697166e61564            1.0         11.0  197.0   \n",
       "1  00028502859fd7e111d88c20456b59d5            0.0          0.0  195.0   \n",
       "2  0003f3458a6e7b495a975c2d9ddda559            1.0          2.0  196.0   \n",
       "3  000784b838b807ad589d4bc69c0c562f            0.0          0.0   63.0   \n",
       "4  000ad0f90e9fcb6ff5a0bc480cccbdb3            4.0         52.0   53.0   \n",
       "\n",
       "   monetary_value_cal  frequency_holdout  monetary_value_holdout  \\\n",
       "0             87.2800                0.0                    0.00   \n",
       "1              0.0000                0.0                    0.00   \n",
       "2             76.6300                1.0                   99.50   \n",
       "3              0.0000                0.0                    0.00   \n",
       "4             87.6675                1.0                  798.24   \n",
       "\n",
       "   duration_holdout  \n",
       "0               147  \n",
       "1               147  \n",
       "2               147  \n",
       "3               147  \n",
       "4               147  "
      ]
     },
     "execution_count": 11,
     "metadata": {},
     "output_type": "execute_result"
    }
   ],
   "source": [
    "summary_cal_holdout.head()"
   ]
  },
  {
   "cell_type": "markdown",
   "metadata": {},
   "source": [
    "## Pareto/NBD model\n",
    "\n",
    "Assumptions of Pareto/NBD:\n",
    "* The number of transactiuons made by a customer follow a Poission process. Time between transactions follow an exponential distribution with transaction rate $\\lambda$.\n",
    "* Transaction rate $\\lambda$ follows a gamma distribution.\n",
    "* Customers have an unobserved \"lifetime\" of length $\\tau$. Customer inactivity immediately after a transaction is distributed exponential with dropout rate $\\mu$.\n",
    "* Dropout rate $\\mu$ follows a gamma distribution with parameters $s$ and $\\beta$.\n",
    "* Transaction rate and dropout probability vary independently across customers.\n",
    "\n",
    "Part one of the first assumption is the number of transactions a customer makes follows a Poission process. This is where individual transactions are independent from each other, the transaction rate is constant and two transactions cannot occur simultaneously. The second part describes the time between transaction to be exponential where customers make many short repeat purchases rather than few longer repeat purchases. The second assumption describes the transaction rate as a gamma distribution. The third assumption assumes customers are immediately inactive after a transaction. The probability of customer inactivity follows an exponential distribution, this is also known as the standard exponential survival function. This function requires a parameter $\\mu$ that follows a gamma distribution. While the last assumption is independence between transaction rate $\\lambda$ and dropout probability p for each customer.\n",
    "\n",
    "## Implement the Pareto/NBD model"
   ]
  },
  {
   "cell_type": "code",
   "execution_count": 12,
   "metadata": {},
   "outputs": [
    {
     "data": {
      "text/plain": [
       "<lifetimes.ParetoNBDFitter: fitted with 16182 subjects, alpha: 115.21, beta: 10.44, r: 1.02, s: 0.21>"
      ]
     },
     "execution_count": 12,
     "metadata": {},
     "output_type": "execute_result"
    }
   ],
   "source": [
    "from lifetimes import ParetoNBDFitter\n",
    "\n",
    "pareto = ParetoNBDFitter(penalizer_coef=0.0)\n",
    "pareto.fit(frequency=summary_cal_holdout['frequency_cal'],\n",
    "           recency=summary_cal_holdout['recency_cal'], \n",
    "           T=summary_cal_holdout['T_cal'])"
   ]
  },
  {
   "cell_type": "code",
   "execution_count": 13,
   "metadata": {},
   "outputs": [
    {
     "data": {
      "text/plain": [
       "r          1.015726\n",
       "alpha    115.209147\n",
       "s          0.213569\n",
       "beta      10.437975\n",
       "dtype: float64"
      ]
     },
     "execution_count": 13,
     "metadata": {},
     "output_type": "execute_result"
    }
   ],
   "source": [
    "pareto.params_"
   ]
  },
  {
   "cell_type": "markdown",
   "metadata": {},
   "source": [
    "## Modified BG/NBD model\n",
    "\n",
    "Assumptions of modified BG/NBD:\n",
    "*  The number of transactions made by a customer follow a Poission process. Time between transactions follow a exponential distribution with transaction rate $\\lambda$.\n",
    "* Transaction rate $\\lambda$ follows a gamma distribution.\n",
    "* Immediately after a transaction, a customer is inactive with probability p. Customer dropout is distributed across transactions according to a shifted geometric distribution.\n",
    "* Customer inactivity probability p follows a beta distribution.\n",
    "* Transaction rate and dropout probability vary independently across customers.\n",
    "\n",
    "The first two assumptions of BG/NBD model are identical to the Pareto/NBD model. The third assumption differs from the Pareto/NBD assumption of customer inactivity. Customer inactivity is determined immediately after a transaction as a probability p. With each additional transaction, a customer has a lower probability of becoming inactive. While few transactions increases the probability of customer inactivity. The fouth assumption being that p follows a beta distribution with $\\alpha$ and $\\beta$ as pdf parameters. While the last assumption is independence between transaction rate $\\lambda$ and dropout probability p for each customer.\n",
    "\n",
    "## Implement the modified BG/NBD model"
   ]
  },
  {
   "cell_type": "code",
   "execution_count": 14,
   "metadata": {},
   "outputs": [
    {
     "data": {
      "text/plain": [
       "<lifetimes.ModifiedBetaGeoFitter: fitted with 16182 subjects, a: 0.77, alpha: 72.39, b: 1.57, r: 0.87>"
      ]
     },
     "execution_count": 14,
     "metadata": {},
     "output_type": "execute_result"
    }
   ],
   "source": [
    "from lifetimes import ModifiedBetaGeoFitter\n",
    "from lifetimes.plotting import plot_calibration_purchases_vs_holdout_purchases\n",
    "from lifetimes.plotting import plot_period_transactions\n",
    "\n",
    "mbg = ModifiedBetaGeoFitter(penalizer_coef=0.0)\n",
    "mbg.fit(frequency=summary_cal_holdout['frequency_cal'],\n",
    "        recency=summary_cal_holdout['recency_cal'], \n",
    "        T=summary_cal_holdout['T_cal'])"
   ]
  },
  {
   "cell_type": "code",
   "execution_count": 15,
   "metadata": {},
   "outputs": [
    {
     "data": {
      "text/html": [
       "<div>\n",
       "<style scoped>\n",
       "    .dataframe tbody tr th:only-of-type {\n",
       "        vertical-align: middle;\n",
       "    }\n",
       "\n",
       "    .dataframe tbody tr th {\n",
       "        vertical-align: top;\n",
       "    }\n",
       "\n",
       "    .dataframe thead th {\n",
       "        text-align: right;\n",
       "    }\n",
       "</style>\n",
       "<table border=\"1\" class=\"dataframe\">\n",
       "  <thead>\n",
       "    <tr style=\"text-align: right;\">\n",
       "      <th></th>\n",
       "      <th>coef</th>\n",
       "      <th>se(coef)</th>\n",
       "      <th>lower 95% bound</th>\n",
       "      <th>upper 95% bound</th>\n",
       "    </tr>\n",
       "  </thead>\n",
       "  <tbody>\n",
       "    <tr>\n",
       "      <th>r</th>\n",
       "      <td>0.869037</td>\n",
       "      <td>0.075572</td>\n",
       "      <td>0.720917</td>\n",
       "      <td>1.017158</td>\n",
       "    </tr>\n",
       "    <tr>\n",
       "      <th>alpha</th>\n",
       "      <td>72.385291</td>\n",
       "      <td>4.552203</td>\n",
       "      <td>63.462974</td>\n",
       "      <td>81.307608</td>\n",
       "    </tr>\n",
       "    <tr>\n",
       "      <th>a</th>\n",
       "      <td>0.767569</td>\n",
       "      <td>0.080816</td>\n",
       "      <td>0.609170</td>\n",
       "      <td>0.925968</td>\n",
       "    </tr>\n",
       "    <tr>\n",
       "      <th>b</th>\n",
       "      <td>1.571636</td>\n",
       "      <td>0.284603</td>\n",
       "      <td>1.013814</td>\n",
       "      <td>2.129457</td>\n",
       "    </tr>\n",
       "  </tbody>\n",
       "</table>\n",
       "</div>"
      ],
      "text/plain": [
       "            coef  se(coef)  lower 95% bound  upper 95% bound\n",
       "r       0.869037  0.075572         0.720917         1.017158\n",
       "alpha  72.385291  4.552203        63.462974        81.307608\n",
       "a       0.767569  0.080816         0.609170         0.925968\n",
       "b       1.571636  0.284603         1.013814         2.129457"
      ]
     },
     "execution_count": 15,
     "metadata": {},
     "output_type": "execute_result"
    }
   ],
   "source": [
    "mbg.summary"
   ]
  },
  {
   "cell_type": "markdown",
   "metadata": {},
   "source": [
    "## Model Comparison"
   ]
  },
  {
   "cell_type": "code",
   "execution_count": 16,
   "metadata": {},
   "outputs": [
    {
     "data": {
      "text/plain": [
       "<matplotlib.axes._subplots.AxesSubplot at 0x2915d05bc50>"
      ]
     },
     "execution_count": 16,
     "metadata": {},
     "output_type": "execute_result"
    },
    {
     "data": {
      "image/png": "[encoded data removed]",
      "text/plain": [
       "<Figure size 432x288 with 1 Axes>"
      ]
     },
     "metadata": {
      "needs_background": "light"
     },
     "output_type": "display_data"
    },
    {
     "data": {
      "image/png": "[encoded data removed]",
      "text/plain": [
       "<Figure size 432x288 with 1 Axes>"
      ]
     },
     "metadata": {
      "needs_background": "light"
     },
     "output_type": "display_data"
    }
   ],
   "source": [
    "plot_calibration_purchases_vs_holdout_purchases(mbg, summary_cal_holdout, n=50)\n",
    "plot_calibration_purchases_vs_holdout_purchases(pareto, summary_cal_holdout, n=50)"
   ]
  },
  {
   "cell_type": "code",
   "execution_count": 17,
   "metadata": {},
   "outputs": [
    {
     "data": {
      "text/plain": [
       "<matplotlib.axes._subplots.AxesSubplot at 0x2915d13f7b8>"
      ]
     },
     "execution_count": 17,
     "metadata": {},
     "output_type": "execute_result"
    },
    {
     "data": {
      "image/png": "[encoded data removed]",
      "text/plain": [
       "<Figure size 432x288 with 1 Axes>"
      ]
     },
     "metadata": {
      "needs_background": "light"
     },
     "output_type": "display_data"
    },
    {
     "data": {
      "image/png": "[encoded data removed]",
      "text/plain": [
       "<Figure size 432x288 with 1 Axes>"
      ]
     },
     "metadata": {
      "needs_background": "light"
     },
     "output_type": "display_data"
    }
   ],
   "source": [
    "plot_period_transactions(pareto)\n",
    "plot_period_transactions(mbg)"
   ]
  },
  {
   "cell_type": "markdown",
   "metadata": {},
   "source": [
    "### 10 customers predicted to make the most purchases over the next 12 months."
   ]
  },
  {
   "cell_type": "code",
   "execution_count": 18,
   "metadata": {},
   "outputs": [],
   "source": [
    "summary['pred_purchases_pareto'] = pareto.conditional_expected_number_of_purchases_up_to_time(t=365,\n",
    "                                                                                              frequency=summary['frequency'],\n",
    "                                                                                              recency=summary['recency'],\n",
    "                                                                                              T=summary['T'])"
   ]
  },
  {
   "cell_type": "code",
   "execution_count": 19,
   "metadata": {},
   "outputs": [],
   "source": [
    "summary['pred_purchases_mbg'] = mbg.conditional_expected_number_of_purchases_up_to_time(t=365,\n",
    "                                                                                        frequency=summary['frequency'],\n",
    "                                                                                        recency=summary['recency'],\n",
    "                                                                                        T=summary['T'])"
   ]
  },
  {
   "cell_type": "code",
   "execution_count": 20,
   "metadata": {},
   "outputs": [
    {
     "data": {
      "text/html": [
       "<div>\n",
       "<style scoped>\n",
       "    .dataframe tbody tr th:only-of-type {\n",
       "        vertical-align: middle;\n",
       "    }\n",
       "\n",
       "    .dataframe tbody tr th {\n",
       "        vertical-align: top;\n",
       "    }\n",
       "\n",
       "    .dataframe thead th {\n",
       "        text-align: right;\n",
       "    }\n",
       "</style>\n",
       "<table border=\"1\" class=\"dataframe\">\n",
       "  <thead>\n",
       "    <tr style=\"text-align: right;\">\n",
       "      <th></th>\n",
       "      <th>CustomerID</th>\n",
       "      <th>pred_purchases_pareto</th>\n",
       "    </tr>\n",
       "  </thead>\n",
       "  <tbody>\n",
       "    <tr>\n",
       "      <th>15336</th>\n",
       "      <td>a5fadc51b1ae844ad9a70ad3cfa46a64</td>\n",
       "      <td>66.616811</td>\n",
       "    </tr>\n",
       "    <tr>\n",
       "      <th>6716</th>\n",
       "      <td>48a503edbaded96a3be27deee11967a1</td>\n",
       "      <td>32.397267</td>\n",
       "    </tr>\n",
       "    <tr>\n",
       "      <th>14705</th>\n",
       "      <td>9f447f9415a380ac2eeee7df49c6ee7e</td>\n",
       "      <td>27.002827</td>\n",
       "    </tr>\n",
       "    <tr>\n",
       "      <th>8831</th>\n",
       "      <td>5f01420f0edda6555df5ce1cc62b986c</td>\n",
       "      <td>26.997385</td>\n",
       "    </tr>\n",
       "    <tr>\n",
       "      <th>13047</th>\n",
       "      <td>8d2ce54737dd404d20cadf1405d46dc8</td>\n",
       "      <td>23.979793</td>\n",
       "    </tr>\n",
       "    <tr>\n",
       "      <th>5479</th>\n",
       "      <td>3b11478939967e896ae2619615650f97</td>\n",
       "      <td>21.768366</td>\n",
       "    </tr>\n",
       "    <tr>\n",
       "      <th>15357</th>\n",
       "      <td>a62a17bb46864da2c6da691d838971b3</td>\n",
       "      <td>21.724654</td>\n",
       "    </tr>\n",
       "    <tr>\n",
       "      <th>3941</th>\n",
       "      <td>2ad9a83ee23110d8c2f4c01600b94f20</td>\n",
       "      <td>20.998205</td>\n",
       "    </tr>\n",
       "    <tr>\n",
       "      <th>10926</th>\n",
       "      <td>75fda9ea22086bf3814ff8c3f53de8ca</td>\n",
       "      <td>20.652870</td>\n",
       "    </tr>\n",
       "    <tr>\n",
       "      <th>8399</th>\n",
       "      <td>5ac5ed64cd99ed2a8403b7a927e644ef</td>\n",
       "      <td>20.089397</td>\n",
       "    </tr>\n",
       "  </tbody>\n",
       "</table>\n",
       "</div>"
      ],
      "text/plain": [
       "                             CustomerID  pred_purchases_pareto\n",
       "15336  a5fadc51b1ae844ad9a70ad3cfa46a64              66.616811\n",
       "6716   48a503edbaded96a3be27deee11967a1              32.397267\n",
       "14705  9f447f9415a380ac2eeee7df49c6ee7e              27.002827\n",
       "8831   5f01420f0edda6555df5ce1cc62b986c              26.997385\n",
       "13047  8d2ce54737dd404d20cadf1405d46dc8              23.979793\n",
       "5479   3b11478939967e896ae2619615650f97              21.768366\n",
       "15357  a62a17bb46864da2c6da691d838971b3              21.724654\n",
       "3941   2ad9a83ee23110d8c2f4c01600b94f20              20.998205\n",
       "10926  75fda9ea22086bf3814ff8c3f53de8ca              20.652870\n",
       "8399   5ac5ed64cd99ed2a8403b7a927e644ef              20.089397"
      ]
     },
     "execution_count": 20,
     "metadata": {},
     "output_type": "execute_result"
    }
   ],
   "source": [
    "summary[['CustomerID', 'pred_purchases_pareto']].sort_values(by='pred_purchases_pareto', ascending=False).head(10)"
   ]
  },
  {
   "cell_type": "code",
   "execution_count": 21,
   "metadata": {},
   "outputs": [
    {
     "data": {
      "text/html": [
       "<div>\n",
       "<style scoped>\n",
       "    .dataframe tbody tr th:only-of-type {\n",
       "        vertical-align: middle;\n",
       "    }\n",
       "\n",
       "    .dataframe tbody tr th {\n",
       "        vertical-align: top;\n",
       "    }\n",
       "\n",
       "    .dataframe thead th {\n",
       "        text-align: right;\n",
       "    }\n",
       "</style>\n",
       "<table border=\"1\" class=\"dataframe\">\n",
       "  <thead>\n",
       "    <tr style=\"text-align: right;\">\n",
       "      <th></th>\n",
       "      <th>CustomerID</th>\n",
       "      <th>pred_purchases_mbg</th>\n",
       "    </tr>\n",
       "  </thead>\n",
       "  <tbody>\n",
       "    <tr>\n",
       "      <th>15336</th>\n",
       "      <td>a5fadc51b1ae844ad9a70ad3cfa46a64</td>\n",
       "      <td>61.483878</td>\n",
       "    </tr>\n",
       "    <tr>\n",
       "      <th>6716</th>\n",
       "      <td>48a503edbaded96a3be27deee11967a1</td>\n",
       "      <td>29.277651</td>\n",
       "    </tr>\n",
       "    <tr>\n",
       "      <th>14705</th>\n",
       "      <td>9f447f9415a380ac2eeee7df49c6ee7e</td>\n",
       "      <td>24.116376</td>\n",
       "    </tr>\n",
       "    <tr>\n",
       "      <th>8831</th>\n",
       "      <td>5f01420f0edda6555df5ce1cc62b986c</td>\n",
       "      <td>23.150874</td>\n",
       "    </tr>\n",
       "    <tr>\n",
       "      <th>13047</th>\n",
       "      <td>8d2ce54737dd404d20cadf1405d46dc8</td>\n",
       "      <td>21.807302</td>\n",
       "    </tr>\n",
       "    <tr>\n",
       "      <th>15357</th>\n",
       "      <td>a62a17bb46864da2c6da691d838971b3</td>\n",
       "      <td>19.775169</td>\n",
       "    </tr>\n",
       "    <tr>\n",
       "      <th>5479</th>\n",
       "      <td>3b11478939967e896ae2619615650f97</td>\n",
       "      <td>19.339583</td>\n",
       "    </tr>\n",
       "    <tr>\n",
       "      <th>3941</th>\n",
       "      <td>2ad9a83ee23110d8c2f4c01600b94f20</td>\n",
       "      <td>18.908355</td>\n",
       "    </tr>\n",
       "    <tr>\n",
       "      <th>10926</th>\n",
       "      <td>75fda9ea22086bf3814ff8c3f53de8ca</td>\n",
       "      <td>18.571341</td>\n",
       "    </tr>\n",
       "    <tr>\n",
       "      <th>4470</th>\n",
       "      <td>30aa99d3357244cf38ca04eadef1473a</td>\n",
       "      <td>17.564054</td>\n",
       "    </tr>\n",
       "  </tbody>\n",
       "</table>\n",
       "</div>"
      ],
      "text/plain": [
       "                             CustomerID  pred_purchases_mbg\n",
       "15336  a5fadc51b1ae844ad9a70ad3cfa46a64           61.483878\n",
       "6716   48a503edbaded96a3be27deee11967a1           29.277651\n",
       "14705  9f447f9415a380ac2eeee7df49c6ee7e           24.116376\n",
       "8831   5f01420f0edda6555df5ce1cc62b986c           23.150874\n",
       "13047  8d2ce54737dd404d20cadf1405d46dc8           21.807302\n",
       "15357  a62a17bb46864da2c6da691d838971b3           19.775169\n",
       "5479   3b11478939967e896ae2619615650f97           19.339583\n",
       "3941   2ad9a83ee23110d8c2f4c01600b94f20           18.908355\n",
       "10926  75fda9ea22086bf3814ff8c3f53de8ca           18.571341\n",
       "4470   30aa99d3357244cf38ca04eadef1473a           17.564054"
      ]
     },
     "execution_count": 21,
     "metadata": {},
     "output_type": "execute_result"
    }
   ],
   "source": [
    "summary[['CustomerID', 'pred_purchases_mbg']].sort_values(by='pred_purchases_mbg', ascending=False).head(10)"
   ]
  },
  {
   "cell_type": "markdown",
   "metadata": {},
   "source": [
    "## Implement the Gamma-Gamma CLV model"
   ]
  },
  {
   "cell_type": "code",
   "execution_count": 22,
   "metadata": {},
   "outputs": [],
   "source": [
    "returning_customers_summary = summary[summary['frequency']>0]"
   ]
  },
  {
   "cell_type": "markdown",
   "metadata": {},
   "source": [
    "### Confirm Gamma-Gamma submodel assumption of independence between monetary value and purchase frequency."
   ]
  },
  {
   "cell_type": "code",
   "execution_count": 23,
   "metadata": {},
   "outputs": [
    {
     "data": {
      "text/html": [
       "<div>\n",
       "<style scoped>\n",
       "    .dataframe tbody tr th:only-of-type {\n",
       "        vertical-align: middle;\n",
       "    }\n",
       "\n",
       "    .dataframe tbody tr th {\n",
       "        vertical-align: top;\n",
       "    }\n",
       "\n",
       "    .dataframe thead th {\n",
       "        text-align: right;\n",
       "    }\n",
       "</style>\n",
       "<table border=\"1\" class=\"dataframe\">\n",
       "  <thead>\n",
       "    <tr style=\"text-align: right;\">\n",
       "      <th></th>\n",
       "      <th>monetary_value</th>\n",
       "      <th>frequency</th>\n",
       "    </tr>\n",
       "  </thead>\n",
       "  <tbody>\n",
       "    <tr>\n",
       "      <th>monetary_value</th>\n",
       "      <td>1.000000</td>\n",
       "      <td>0.042791</td>\n",
       "    </tr>\n",
       "    <tr>\n",
       "      <th>frequency</th>\n",
       "      <td>0.042791</td>\n",
       "      <td>1.000000</td>\n",
       "    </tr>\n",
       "  </tbody>\n",
       "</table>\n",
       "</div>"
      ],
      "text/plain": [
       "                monetary_value  frequency\n",
       "monetary_value        1.000000   0.042791\n",
       "frequency             0.042791   1.000000"
      ]
     },
     "execution_count": 23,
     "metadata": {},
     "output_type": "execute_result"
    }
   ],
   "source": [
    "returning_customers_summary[['monetary_value', 'frequency']].corr()"
   ]
  },
  {
   "cell_type": "code",
   "execution_count": 24,
   "metadata": {},
   "outputs": [
    {
     "data": {
      "text/plain": [
       "<lifetimes.GammaGammaFitter: fitted with 9647 subjects, p: 4.57, q: 3.65, v: 135.88>"
      ]
     },
     "execution_count": 24,
     "metadata": {},
     "output_type": "execute_result"
    }
   ],
   "source": [
    "from lifetimes import GammaGammaFitter\n",
    "\n",
    "ggf = GammaGammaFitter(penalizer_coef=0.0)\n",
    "ggf.fit(frequency=returning_customers_summary['frequency'],\n",
    "        monetary_value=returning_customers_summary['monetary_value'])"
   ]
  },
  {
   "cell_type": "code",
   "execution_count": 25,
   "metadata": {},
   "outputs": [
    {
     "name": "stderr",
     "output_type": "stream",
     "text": [
      "C:\\Users\\Justin\\Anaconda3\\lib\\site-packages\\lifetimes\\fitters\\pareto_nbd_fitter.py:237: RuntimeWarning: divide by zero encountered in log\n",
      "  third_term = log((1 - ((beta + T) / (beta + T + t)) ** (s - 1)) / (s - 1))\n"
     ]
    }
   ],
   "source": [
    "summary['pred_clv_pareto'] = ggf.customer_lifetime_value(transaction_prediction_model=pareto,\n",
    "                                                         frequency=summary['frequency'], \n",
    "                                                         recency=summary['recency'],\n",
    "                                                         T=summary['T'],\n",
    "                                                         monetary_value=summary['monetary_value'],\n",
    "                                                         time=12,\n",
    "                                                         freq=\"D\")"
   ]
  },
  {
   "cell_type": "code",
   "execution_count": 26,
   "metadata": {},
   "outputs": [],
   "source": [
    "summary['pred_clv_mbg'] = ggf.customer_lifetime_value(transaction_prediction_model=mbg, \n",
    "                                                  frequency=summary['frequency'], \n",
    "                                                  recency=summary['recency'],\n",
    "                                                  T=summary['T'], \n",
    "                                                  monetary_value=summary['monetary_value'],\n",
    "                                                  time=12,\n",
    "                                                  freq=\"D\")"
   ]
  },
  {
   "cell_type": "markdown",
   "metadata": {},
   "source": [
    "### 100 customers predicted to spend the most over the next 12 months."
   ]
  },
  {
   "cell_type": "code",
   "execution_count": 27,
   "metadata": {},
   "outputs": [
    {
     "data": {
      "text/html": [
       "<div>\n",
       "<style scoped>\n",
       "    .dataframe tbody tr th:only-of-type {\n",
       "        vertical-align: middle;\n",
       "    }\n",
       "\n",
       "    .dataframe tbody tr th {\n",
       "        vertical-align: top;\n",
       "    }\n",
       "\n",
       "    .dataframe thead th {\n",
       "        text-align: right;\n",
       "    }\n",
       "</style>\n",
       "<table border=\"1\" class=\"dataframe\">\n",
       "  <thead>\n",
       "    <tr style=\"text-align: right;\">\n",
       "      <th></th>\n",
       "      <th>CustomerID</th>\n",
       "      <th>pred_clv_pareto</th>\n",
       "    </tr>\n",
       "  </thead>\n",
       "  <tbody>\n",
       "    <tr>\n",
       "      <th>15336</th>\n",
       "      <td>a5fadc51b1ae844ad9a70ad3cfa46a64</td>\n",
       "      <td>26728.469522</td>\n",
       "    </tr>\n",
       "    <tr>\n",
       "      <th>18747</th>\n",
       "      <td>ca2202a96c2de6ca6b8a37a4a73fa730</td>\n",
       "      <td>16767.648508</td>\n",
       "    </tr>\n",
       "    <tr>\n",
       "      <th>20502</th>\n",
       "      <td>dca76db00cc59dfbcdcc97c8bbc7f9f1</td>\n",
       "      <td>12006.807732</td>\n",
       "    </tr>\n",
       "    <tr>\n",
       "      <th>8399</th>\n",
       "      <td>5ac5ed64cd99ed2a8403b7a927e644ef</td>\n",
       "      <td>11513.775184</td>\n",
       "    </tr>\n",
       "    <tr>\n",
       "      <th>9000</th>\n",
       "      <td>60c19a709e3ced2d16d7100eb1069df5</td>\n",
       "      <td>9788.983059</td>\n",
       "    </tr>\n",
       "    <tr>\n",
       "      <th>840</th>\n",
       "      <td>089ecc49200cfe79584d0bec2a3cf8c0</td>\n",
       "      <td>8031.240966</td>\n",
       "    </tr>\n",
       "    <tr>\n",
       "      <th>14142</th>\n",
       "      <td>98f8e41f45721cbe49a3147f6cf62432</td>\n",
       "      <td>7523.141337</td>\n",
       "    </tr>\n",
       "    <tr>\n",
       "      <th>8831</th>\n",
       "      <td>5f01420f0edda6555df5ce1cc62b986c</td>\n",
       "      <td>7463.519669</td>\n",
       "    </tr>\n",
       "    <tr>\n",
       "      <th>6061</th>\n",
       "      <td>42059a7ede026d409ff0f255635d7a08</td>\n",
       "      <td>7439.464856</td>\n",
       "    </tr>\n",
       "    <tr>\n",
       "      <th>21927</th>\n",
       "      <td>eba458987dc67827871c1d4d92e646e1</td>\n",
       "      <td>7183.999161</td>\n",
       "    </tr>\n",
       "  </tbody>\n",
       "</table>\n",
       "</div>"
      ],
      "text/plain": [
       "                             CustomerID  pred_clv_pareto\n",
       "15336  a5fadc51b1ae844ad9a70ad3cfa46a64     26728.469522\n",
       "18747  ca2202a96c2de6ca6b8a37a4a73fa730     16767.648508\n",
       "20502  dca76db00cc59dfbcdcc97c8bbc7f9f1     12006.807732\n",
       "8399   5ac5ed64cd99ed2a8403b7a927e644ef     11513.775184\n",
       "9000   60c19a709e3ced2d16d7100eb1069df5      9788.983059\n",
       "840    089ecc49200cfe79584d0bec2a3cf8c0      8031.240966\n",
       "14142  98f8e41f45721cbe49a3147f6cf62432      7523.141337\n",
       "8831   5f01420f0edda6555df5ce1cc62b986c      7463.519669\n",
       "6061   42059a7ede026d409ff0f255635d7a08      7439.464856\n",
       "21927  eba458987dc67827871c1d4d92e646e1      7183.999161"
      ]
     },
     "execution_count": 27,
     "metadata": {},
     "output_type": "execute_result"
    }
   ],
   "source": [
    "summary[['CustomerID', 'pred_clv_pareto']].sort_values(by='pred_clv_pareto', ascending=False).head(10)"
   ]
  },
  {
   "cell_type": "code",
   "execution_count": 28,
   "metadata": {},
   "outputs": [
    {
     "data": {
      "text/html": [
       "<div>\n",
       "<style scoped>\n",
       "    .dataframe tbody tr th:only-of-type {\n",
       "        vertical-align: middle;\n",
       "    }\n",
       "\n",
       "    .dataframe tbody tr th {\n",
       "        vertical-align: top;\n",
       "    }\n",
       "\n",
       "    .dataframe thead th {\n",
       "        text-align: right;\n",
       "    }\n",
       "</style>\n",
       "<table border=\"1\" class=\"dataframe\">\n",
       "  <thead>\n",
       "    <tr style=\"text-align: right;\">\n",
       "      <th></th>\n",
       "      <th>CustomerID</th>\n",
       "      <th>pred_clv_mbg</th>\n",
       "    </tr>\n",
       "  </thead>\n",
       "  <tbody>\n",
       "    <tr>\n",
       "      <th>15336</th>\n",
       "      <td>a5fadc51b1ae844ad9a70ad3cfa46a64</td>\n",
       "      <td>24788.383849</td>\n",
       "    </tr>\n",
       "    <tr>\n",
       "      <th>18747</th>\n",
       "      <td>ca2202a96c2de6ca6b8a37a4a73fa730</td>\n",
       "      <td>16919.328064</td>\n",
       "    </tr>\n",
       "    <tr>\n",
       "      <th>20502</th>\n",
       "      <td>dca76db00cc59dfbcdcc97c8bbc7f9f1</td>\n",
       "      <td>10323.236506</td>\n",
       "    </tr>\n",
       "    <tr>\n",
       "      <th>8399</th>\n",
       "      <td>5ac5ed64cd99ed2a8403b7a927e644ef</td>\n",
       "      <td>9066.358529</td>\n",
       "    </tr>\n",
       "    <tr>\n",
       "      <th>9000</th>\n",
       "      <td>60c19a709e3ced2d16d7100eb1069df5</td>\n",
       "      <td>8534.193337</td>\n",
       "    </tr>\n",
       "    <tr>\n",
       "      <th>8831</th>\n",
       "      <td>5f01420f0edda6555df5ce1cc62b986c</td>\n",
       "      <td>6430.500963</td>\n",
       "    </tr>\n",
       "    <tr>\n",
       "      <th>840</th>\n",
       "      <td>089ecc49200cfe79584d0bec2a3cf8c0</td>\n",
       "      <td>6331.232894</td>\n",
       "    </tr>\n",
       "    <tr>\n",
       "      <th>10770</th>\n",
       "      <td>742d5a52d4df7cb14246d7f390de5d8a</td>\n",
       "      <td>6316.257136</td>\n",
       "    </tr>\n",
       "    <tr>\n",
       "      <th>21927</th>\n",
       "      <td>eba458987dc67827871c1d4d92e646e1</td>\n",
       "      <td>6205.817645</td>\n",
       "    </tr>\n",
       "    <tr>\n",
       "      <th>15442</th>\n",
       "      <td>a719d6643a7832535de9aded2f467825</td>\n",
       "      <td>6194.385123</td>\n",
       "    </tr>\n",
       "  </tbody>\n",
       "</table>\n",
       "</div>"
      ],
      "text/plain": [
       "                             CustomerID  pred_clv_mbg\n",
       "15336  a5fadc51b1ae844ad9a70ad3cfa46a64  24788.383849\n",
       "18747  ca2202a96c2de6ca6b8a37a4a73fa730  16919.328064\n",
       "20502  dca76db00cc59dfbcdcc97c8bbc7f9f1  10323.236506\n",
       "8399   5ac5ed64cd99ed2a8403b7a927e644ef   9066.358529\n",
       "9000   60c19a709e3ced2d16d7100eb1069df5   8534.193337\n",
       "8831   5f01420f0edda6555df5ce1cc62b986c   6430.500963\n",
       "840    089ecc49200cfe79584d0bec2a3cf8c0   6331.232894\n",
       "10770  742d5a52d4df7cb14246d7f390de5d8a   6316.257136\n",
       "21927  eba458987dc67827871c1d4d92e646e1   6205.817645\n",
       "15442  a719d6643a7832535de9aded2f467825   6194.385123"
      ]
     },
     "execution_count": 28,
     "metadata": {},
     "output_type": "execute_result"
    }
   ],
   "source": [
    "summary[['CustomerID', 'pred_clv_mbg']].sort_values(by='pred_clv_mbg', ascending=False).head(10)"
   ]
  },
  {
   "cell_type": "markdown",
   "metadata": {},
   "source": [
    "## Model Analysis and Evaluation\n",
    "\n",
    "The model does well when predicting customer purchasing behavior with smaller frequencies. From the figure below, the model does well at the beginning where frequencies are small. We then see the model generalize rather well while also responding to minor changes. These results are due to the majority of observations being smaller frequencies than larger frequencies. As there are fewer observations on the larger frequencies, the model struggles to predict customer purchasing behavior. As a result of the models inability to predict customer purchasing behavior of larger frequencies can also affect how CLV is predicted. With varying predictions for large frequencies, CLV predictions will be conservative.\n",
    "\n",
    "An idea is to add/adjust model fit weights. In the documentation the weights parameter calculates the log-likelihood for given patterns in the data rather than individual calculations. This would compensate for the lack of observations as well as focus on particular patterns in the data. The model would be able to predict customer purchasing behavior, as well as better tune CLV predictions for those with higher frequencies.\n",
    "\n",
    "Comparing the Pareto/NBD and Modififed BG/NBD models, the differences are rather small. The problem with the Pareto/NBD model is its computational demand. The model attempts multiple evaluations of the Gaussian hypergeometric function for an individual customer. As a result, numerical optimization becomes difficult when solving for the maximum likelihood function. The Modified BG/NBD model solves the issues that occur with the Pareto/NBD model. By having a single evaluation of the Gaussian hypergeometric function for an individual customer, computation is less burdensome.\n",
    "\n",
    "## Model Simulation\n",
    "\n",
    "### Simulation of customer alive after 10 days, 1 year, 10 years and 100 years "
   ]
  },
  {
   "cell_type": "code",
   "execution_count": 29,
   "metadata": {},
   "outputs": [
    {
     "name": "stdout",
     "output_type": "stream",
     "text": [
      "Duration: 10\n",
      "Pareto/NBD : Modified BG/NBD\n",
      "Number of Purchases: 9.0 : Number of Purchases: 11.0\n",
      "Number of Customers Alive: 86.0 : Number of Customers Alive: 67.0\n",
      "-----------------------------------------------------------------\n",
      "Duration: 365\n",
      "Pareto/NBD : Modified BG/NBD\n",
      "Number of Purchases: 225.0 : Number of Purchases: 154.0\n",
      "Number of Customers Alive: 44.0 : Number of Customers Alive: 38.0\n",
      "-----------------------------------------------------------------\n",
      "Duration: 3650\n",
      "Pareto/NBD : Modified BG/NBD\n",
      "Number of Purchases: 1452.0 : Number of Purchases: 600.0\n",
      "Number of Customers Alive: 31.0 : Number of Customers Alive: 16.0\n",
      "-----------------------------------------------------------------\n",
      "Duration: 36500\n",
      "Pareto/NBD : Modified BG/NBD\n",
      "Number of Purchases: 5361.0 : Number of Purchases: 914.0\n",
      "Number of Customers Alive: 15.0 : Number of Customers Alive: 3.0\n",
      "-----------------------------------------------------------------\n"
     ]
    }
   ],
   "source": [
    "from lifetimes.generate_data import modified_beta_geometric_nbd_model\n",
    "from lifetimes.generate_data import pareto_nbd_model\n",
    "\n",
    "times = [10, 365, 3650, 36500] # periods in terms of days\n",
    "r_par, alpha_par, s, beta = pareto.params_\n",
    "r_mbg, alpha_mbg, a, b = mbg.summary['coef']\n",
    "size = 100\n",
    "\n",
    "for duration in times:\n",
    "    \n",
    "    generated_customers_par = pareto_nbd_model(T=duration,\n",
    "                                               r=r_par,\n",
    "                                               alpha=alpha_par, \n",
    "                                               s=s, \n",
    "                                               beta=beta,\n",
    "                                               size=size)\n",
    "    \n",
    "    generated_customers_mbg = modified_beta_geometric_nbd_model(T=duration, \n",
    "                                                                r=r_mbg, \n",
    "                                                                alpha=alpha_mbg,\n",
    "                                                                a=a,\n",
    "                                                                b=b,\n",
    "                                                                size=size)\n",
    "    \n",
    "    print(\"Duration: {}\".format(duration))\n",
    "    print(\"Pareto/NBD : Modified BG/NBD\")\n",
    "    print(\"Number of Purchases: {} : Number of Purchases: {}\".format(generated_customers_par['frequency'].sum(),\n",
    "                                                                           generated_customers_mbg['frequency'].sum()))\n",
    "    \n",
    "    print(\"Number of Customers Alive: {} : Number of Customers Alive: {}\".format(generated_customers_par['alive'].sum(),\n",
    "                                                                                 generated_customers_mbg['alive'].sum()))\n",
    "    print(\"-----------------------------------------------------------------\") "
   ]
  },
  {
   "cell_type": "code",
   "execution_count": null,
   "metadata": {},
   "outputs": [],
   "source": []
  }
 ],
 "metadata": {
  "kernelspec": {
   "display_name": "Python 3",
   "language": "python",
   "name": "python3"
  },
  "language_info": {
   "codemirror_mode": {
    "name": "ipython",
    "version": 3
   },
   "file_extension": ".py",
   "mimetype": "text/x-python",
   "name": "python",
   "nbconvert_exporter": "python",
   "pygments_lexer": "ipython3",
   "version": "3.7.3"
  }
 },
 "nbformat": 4,
 "nbformat_minor": 2
}
